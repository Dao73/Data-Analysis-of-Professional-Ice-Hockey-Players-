{
 "cells": [
  {
   "cell_type": "code",
   "execution_count": 2,
   "id": "24c33e93-7f4f-41c1-aca0-66325857c9a7",
   "metadata": {},
   "outputs": [
    {
     "name": "stdout",
     "output_type": "stream",
     "text": [
      "Groupe 1:\n",
      "Zinger - 2003\n",
      "Renault - 2004\n",
      "Nicoud - 2004\n",
      "Guidoux - 2004\n",
      "Dupont - 2004\n",
      "Fogliano - 2005\n",
      "Michon - 2005\n",
      "Quaix - 2005\n",
      "Boisson - 2005\n",
      "Kahn - 2006\n",
      "Audisio - 2006\n",
      "R Guidoux - 2007\n",
      "\n",
      "Groupe 2:\n",
      "Terglav - 2004\n",
      "Raveaud - 2004\n",
      "Kolonin - 2004\n",
      "Michallon - 2004\n",
      "Galvez - 2004\n",
      "Mattioni - 2005\n",
      "Nemtyrev - 2005\n",
      "De Smitt - 2005\n",
      "Rotolo - 2005\n",
      "Vial - 2006\n",
      "Apakhaev - 2006\n"
     ]
    }
   ],
   "source": [
    "import pandas as pd\n",
    "\n",
    "# Charger le dataframe à partir du fichier CSV\n",
    "df = pd.read_csv(\"C:\\Python\\Dossier csv\\groupe protocole BDL 2.0 - Feuille 1.csv\")\n",
    "\n",
    "# Trier le dataframe en fonction de la colonne \"born\" si elle existe\n",
    "if 'Year' in df.columns:\n",
    "    # Trier le dataframe en fonction de la colonne \"born\"\n",
    "    df_sorted = df.sort_values(by='Year')\n",
    "    \n",
    "    # Créer deux listes vides pour stocker les groupes\n",
    "    group1 = []\n",
    "    group2 = []\n",
    "    \n",
    "    # Iterer sur les noms et les repartir equitabelement\n",
    "    for index, row in df_sorted.iterrows():\n",
    "        if len(group1) <= len(group2):\n",
    "            group1.append((row['Name'], row['Year']))\n",
    "        else:\n",
    "            group2.append((row['Name'], row['Year']))\n",
    "    \n",
    "    # Afficher les deux groupes avec le nom et l'année de naissance\n",
    "    print(\"Groupe 1:\")\n",
    "    for name, born in group1:\n",
    "        print(f\"{name} - {born}\")\n",
    "    \n",
    "    print(\"\\nGroupe 2:\")\n",
    "    for name, born in group2:\n",
    "        print(f\"{name} - {born}\")\n",
    "else:\n",
    "    print(\"La colonne 'Year' n'existe pas dans le dataframe.\")\n"
   ]
  },
  {
   "cell_type": "code",
   "execution_count": null,
   "id": "2185bb7d-6e64-439e-8f1c-3d9981fe0c68",
   "metadata": {},
   "outputs": [],
   "source": []
  }
 ],
 "metadata": {
  "kernelspec": {
   "display_name": "Python 3 (ipykernel)",
   "language": "python",
   "name": "python3"
  },
  "language_info": {
   "codemirror_mode": {
    "name": "ipython",
    "version": 3
   },
   "file_extension": ".py",
   "mimetype": "text/x-python",
   "name": "python",
   "nbconvert_exporter": "python",
   "pygments_lexer": "ipython3",
   "version": "3.11.5"
  }
 },
 "nbformat": 4,
 "nbformat_minor": 5
}
